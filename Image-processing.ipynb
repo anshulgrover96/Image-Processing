{
 "cells": [
  {
   "cell_type": "code",
   "execution_count": 1,
   "metadata": {},
   "outputs": [],
   "source": [
    "import os\n",
    "import argparse\n",
    "import cv2\n",
    "\n",
    "#parse args\n",
    "parser = argparse.ArgumentParser(description='Downsize images at 2x using bicubic interpolation')\n",
    "parser.add_argument(\"hr_img_dir\", help=\"path to high resolution image dir\")\n",
    "parser.add_argument(\"lr_img_dir\", help=\"path to desired output dir for downsampled images\")\n",
    "parser.add_argument(\"-k\", \"--keepdims\", help=\"keep original image dimensions in downsampled images\", action=\"store_true\")\n",
    "args = parser.parse_args(args=[\"hr_img_dir\",\"lr_img_dir\",\"-k\", \"--keepdims\"])\n",
    "\n",
    "\n",
    "\n",
    "\n",
    "hr_image_dir = args.hr_img_dir\n",
    "lr_image_dir = args.lr_img_dir\n",
    "\n",
    "#create LR image dirs\n",
    "os.makedirs(lr_image_dir + \"/2x\", exist_ok=True)\n",
    "\n",
    "supported_img_formats = (\".bmp\", \".dib\", \".jpeg\", \".jpg\", \".jpe\", \".jp2\",\n",
    "                         \".png\", \".pbm\", \".pgm\", \".ppm\", \".sr\", \".ras\", \".tif\",\n",
    "                         \".tiff\")\n",
    "#Downsample HR images\n",
    "for filename in os.listdir(hr_image_dir):\n",
    "    if not filename.endswith(supported_img_formats):\n",
    "        continue\n",
    "\n",
    "    #Read HR image\n",
    "    hr_img = cv2.imread(os.path.join(hr_image_dir, filename))\n",
    "    hr_img_dims = (hr_img.shape[1], hr_img.shape[0])\n",
    "\n",
    "    #Blur with Gaussian kernel of width sigma = 1\n",
    "    hr_img = cv2.GaussianBlur(hr_img, (0,0), 1, 1)\n",
    "\n",
    "    #Downsample image 2x\n",
    "    lr_image_2x = cv2.resize(hr_img, (0,0), fx=0.5, fy=0.5, interpolation=cv2.INTER_CUBIC)\n",
    "    if args.keepdims:\n",
    "        lr_image_2x = cv2.resize(lr_image_2x, hr_img_dims, interpolation=cv2.INTER_CUBIC)\n",
    "\n",
    "    cv2.imwrite(os.path.join(lr_image_dir + \"/2x\", filename), lr_image_2x)\n",
    "    "
   ]
  },
  {
   "cell_type": "raw",
   "metadata": {},
   "source": []
  },
  {
   "cell_type": "code",
   "execution_count": 70,
   "metadata": {},
   "outputs": [
    {
     "ename": "TypeError",
     "evalue": "imwrite() missing required argument 'img' (pos 2)",
     "output_type": "error",
     "traceback": [
      "\u001b[1;31m---------------------------------------------------------------------------\u001b[0m",
      "\u001b[1;31mTypeError\u001b[0m                                 Traceback (most recent call last)",
      "\u001b[1;32m<ipython-input-69-cc1f44001551>\u001b[0m in \u001b[0;36m<module>\u001b[1;34m()\u001b[0m\n\u001b[0;32m     39\u001b[0m         \u001b[0mlr_image_2x\u001b[0m \u001b[1;33m=\u001b[0m \u001b[0mcv2\u001b[0m\u001b[1;33m.\u001b[0m\u001b[0mresize\u001b[0m\u001b[1;33m(\u001b[0m\u001b[0mlr_image_2x\u001b[0m\u001b[1;33m,\u001b[0m \u001b[0mhr_img_dims\u001b[0m\u001b[1;33m,\u001b[0m \u001b[0minterpolation\u001b[0m\u001b[1;33m=\u001b[0m\u001b[0mcv2\u001b[0m\u001b[1;33m.\u001b[0m\u001b[0mINTER_CUBIC\u001b[0m\u001b[1;33m)\u001b[0m\u001b[1;33m\u001b[0m\u001b[0m\n\u001b[0;32m     40\u001b[0m \u001b[1;33m\u001b[0m\u001b[0m\n\u001b[1;32m---> 41\u001b[1;33m     \u001b[0mcv2\u001b[0m\u001b[1;33m.\u001b[0m\u001b[0mimwrite\u001b[0m\u001b[1;33m(\u001b[0m\u001b[1;33m(\u001b[0m\u001b[0mos\u001b[0m\u001b[1;33m.\u001b[0m\u001b[0mpath\u001b[0m\u001b[1;33m.\u001b[0m\u001b[0mjoin\u001b[0m\u001b[1;33m(\u001b[0m\u001b[0mlr_image_dir\u001b[0m \u001b[1;33m+\u001b[0m \u001b[1;34m\"/2x\"\u001b[0m\u001b[1;33m,\u001b[0m \u001b[0mfilename\u001b[0m\u001b[1;33m)\u001b[0m\u001b[1;33m,\u001b[0m \u001b[0mlr_image_2x\u001b[0m\u001b[1;33m)\u001b[0m\u001b[1;33m)\u001b[0m\u001b[1;33m\u001b[0m\u001b[0m\n\u001b[0m\u001b[0;32m     42\u001b[0m \u001b[1;33m\u001b[0m\u001b[0m\n",
      "\u001b[1;31mTypeError\u001b[0m: imwrite() missing required argument 'img' (pos 2)"
     ]
    }
   ],
   "source": [
    "%tb"
   ]
  },
  {
   "cell_type": "code",
   "execution_count": null,
   "metadata": {},
   "outputs": [],
   "source": [
    "import os"
   ]
  },
  {
   "cell_type": "code",
   "execution_count": null,
   "metadata": {},
   "outputs": [],
   "source": [
    "import argparse"
   ]
  },
  {
   "cell_type": "code",
   "execution_count": null,
   "metadata": {},
   "outputs": [],
   "source": [
    "pip install opencv-python\n"
   ]
  },
  {
   "cell_type": "code",
   "execution_count": null,
   "metadata": {},
   "outputs": [],
   "source": [
    "import cv2"
   ]
  },
  {
   "cell_type": "code",
   "execution_count": 16,
   "metadata": {},
   "outputs": [],
   "source": [
    "from PIL import Image\n",
    "img = Image.open('hrimage.jpg')\n",
    "img.save('brick-image','jpeg')"
   ]
  },
  {
   "cell_type": "code",
   "execution_count": 17,
   "metadata": {},
   "outputs": [],
   "source": [
    "from PIL import Image"
   ]
  },
  {
   "cell_type": "code",
   "execution_count": 19,
   "metadata": {},
   "outputs": [],
   "source": [
    "img = Image.open('hrimage.jpg').convert('L')\n",
    "img.show()\n",
    "img.save('brick-image-gs','png')"
   ]
  },
  {
   "cell_type": "code",
   "execution_count": null,
   "metadata": {},
   "outputs": [],
   "source": []
  }
 ],
 "metadata": {
  "kernelspec": {
   "display_name": "Python 3",
   "language": "python",
   "name": "python3"
  },
  "language_info": {
   "codemirror_mode": {
    "name": "ipython",
    "version": 3
   },
   "file_extension": ".py",
   "mimetype": "text/x-python",
   "name": "python",
   "nbconvert_exporter": "python",
   "pygments_lexer": "ipython3",
   "version": "3.7.0"
  }
 },
 "nbformat": 4,
 "nbformat_minor": 2
}
